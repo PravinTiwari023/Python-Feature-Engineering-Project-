{
  "nbformat": 4,
  "nbformat_minor": 0,
  "metadata": {
    "colab": {
      "provenance": [],
      "authorship_tag": "ABX9TyOupoTl+eFHf+mLPFJ7Xb0L",
      "include_colab_link": true
    },
    "kernelspec": {
      "name": "python3",
      "display_name": "Python 3"
    },
    "language_info": {
      "name": "python"
    }
  },
  "cells": [
    {
      "cell_type": "markdown",
      "metadata": {
        "id": "view-in-github",
        "colab_type": "text"
      },
      "source": [
        "<a href=\"https://colab.research.google.com/github/PravinTiwari023/Python-Feature-Engineering-Project-/blob/main/07_Funding_Rounds.ipynb\" target=\"_parent\"><img src=\"https://colab.research.google.com/assets/colab-badge.svg\" alt=\"Open In Colab\"/></a>"
      ]
    },
    {
      "cell_type": "markdown",
      "source": [
        "Problem Statement :\n",
        "Find the top 5 startups who received the most number of funding rounds. That means, startups which got fundings maximum number of times.\n",
        "Print the startup name in descending order with respect to the number of funding round as integer value."
      ],
      "metadata": {
        "id": "LWh-u0cTJ8oT"
      }
    },
    {
      "cell_type": "code",
      "execution_count": 3,
      "metadata": {
        "id": "13kBo79dJ6T0"
      },
      "outputs": [],
      "source": [
        "import pandas as pd\n",
        "df_start=pd.read_csv(\"/content/drive/MyDrive/Colab/Python EDA Project/startup_funding.csv\")"
      ]
    },
    {
      "cell_type": "code",
      "source": [
        "from google.colab import drive\n",
        "drive.mount('/content/drive')"
      ],
      "metadata": {
        "colab": {
          "base_uri": "https://localhost:8080/"
        },
        "id": "T0Ac37-MKWjx",
        "outputId": "4a9cc1f5-9e61-4734-dae8-aa68b2ca6f64"
      },
      "execution_count": 2,
      "outputs": [
        {
          "output_type": "stream",
          "name": "stdout",
          "text": [
            "Mounted at /content/drive\n"
          ]
        }
      ]
    },
    {
      "cell_type": "code",
      "source": [
        "df_start['StartupName'].replace('Olacabs','Ola',inplace=True) \n",
        "df_start['StartupName'].replace('Ola Cabs','Ola',inplace=True)\n",
        "df_start['StartupName'].replace('Paytm Marketplace','Paytm',inplace=True)\n",
        "# df_start['StartupName'].replace('Oyo Rooms','Oyo',inplace=True)\n",
        "df_start['StartupName'].replace('Flipkart.com','Flipkart',inplace=True)\n",
        "df_start['StartupName'].replace('Oyo Rooms','Oyo',inplace = True)\n",
        "df_start['StartupName'].replace('Oyorooms','Oyo',inplace = True)\n",
        "df_start['StartupName'].replace('OyoRooms','Oyo',inplace = True)\n",
        "df_start['StartupName'].replace('OYO Rooms','Oyo',inplace = True)"
      ],
      "metadata": {
        "id": "QzGGpJaCKXsq"
      },
      "execution_count": 4,
      "outputs": []
    },
    {
      "cell_type": "code",
      "source": [
        "start = df_start['StartupName']\n",
        "freq = start.value_counts()[0:5]\n",
        "startup = freq.index\n",
        "value = freq.values"
      ],
      "metadata": {
        "id": "eKlt_GFkKu3X"
      },
      "execution_count": 5,
      "outputs": []
    },
    {
      "cell_type": "code",
      "source": [
        "for i in range(len(startup)):\n",
        "    print(startup[i],value[i])"
      ],
      "metadata": {
        "colab": {
          "base_uri": "https://localhost:8080/"
        },
        "id": "yS1AOBkWKxZ1",
        "outputId": "436e929d-1793-4c77-aac3-2c801abd17f9"
      },
      "execution_count": 6,
      "outputs": [
        {
          "output_type": "stream",
          "name": "stdout",
          "text": [
            "Ola 9\n",
            "Swiggy 7\n",
            "UrbanClap 6\n",
            "Paytm 6\n",
            "Oyo 6\n"
          ]
        }
      ]
    },
    {
      "cell_type": "code",
      "source": [],
      "metadata": {
        "id": "xlyvY1yiK0AM"
      },
      "execution_count": null,
      "outputs": []
    }
  ]
}