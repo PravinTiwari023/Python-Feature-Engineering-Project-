{
  "nbformat": 4,
  "nbformat_minor": 0,
  "metadata": {
    "colab": {
      "provenance": [],
      "authorship_tag": "ABX9TyPkGcSrQ8gQW6TcnupsmfDq",
      "include_colab_link": true
    },
    "kernelspec": {
      "name": "python3",
      "display_name": "Python 3"
    },
    "language_info": {
      "name": "python"
    }
  },
  "cells": [
    {
      "cell_type": "markdown",
      "metadata": {
        "id": "view-in-github",
        "colab_type": "text"
      },
      "source": [
        "<a href=\"https://colab.research.google.com/github/PravinTiwari023/Python-Feature-Engineering-Project-/blob/main/03_Funding_amount.ipynb\" target=\"_parent\"><img src=\"https://colab.research.google.com/assets/colab-badge.svg\" alt=\"Open In Colab\"/></a>"
      ]
    },
    {
      "cell_type": "code",
      "execution_count": 1,
      "metadata": {
        "colab": {
          "base_uri": "https://localhost:8080/"
        },
        "id": "YzLYqhb5FeaW",
        "outputId": "7dd3d92e-f8a3-4627-ac87-2d986ab37586"
      },
      "outputs": [
        {
          "output_type": "stream",
          "name": "stdout",
          "text": [
            "Mounted at /content/drive\n"
          ]
        }
      ],
      "source": [
        "from google.colab import drive\n",
        "drive.mount('/content/drive')"
      ]
    },
    {
      "cell_type": "markdown",
      "source": [
        "Problem Statement :\n",
        "Find out if cities play any role in receiving funding.\n",
        "Find top 10 Indian cities with most amount of fundings received. Find out percentage of funding each city has got (among top 10 Indian cities only).\n",
        "Print the city and percentage with 2 decimal place after rounding off.\n"
      ],
      "metadata": {
        "id": "6hz7_UhYFzGw"
      }
    },
    {
      "cell_type": "code",
      "source": [
        "import pandas as pd\n",
        "import numpy as np"
      ],
      "metadata": {
        "id": "U8OTZowyFrU0"
      },
      "execution_count": 2,
      "outputs": []
    },
    {
      "cell_type": "code",
      "source": [
        "data = pd.read_csv('/content/drive/MyDrive/Colab/Python EDA Project/startup_funding.csv')\n",
        "df = data.copy()"
      ],
      "metadata": {
        "id": "5Y8MAWWPF7K3"
      },
      "execution_count": 3,
      "outputs": []
    },
    {
      "cell_type": "code",
      "source": [
        "df.AmountInUSD.dropna(inplace=True)\n",
        "df.CityLocation.dropna(inplace=True)"
      ],
      "metadata": {
        "id": "m6TBr6BPGE4M"
      },
      "execution_count": 4,
      "outputs": []
    },
    {
      "cell_type": "code",
      "source": [
        "def seperateCity(s):\n",
        "    s = str(s)\n",
        "    return s.split('/')[0].strip()\n",
        "df['CityLocation'] = df['CityLocation'].apply(seperateCity)"
      ],
      "metadata": {
        "id": "F_q11dZAGH9C"
      },
      "execution_count": 6,
      "outputs": []
    },
    {
      "cell_type": "code",
      "source": [
        "df['CityLocation'].replace( \"Delhi\",\"New Delhi\",inplace=True)\n",
        "df['CityLocation'].replace(\"bangalore\",\"Bangalore\",inplace=True)"
      ],
      "metadata": {
        "id": "b8DBau7iGKvR"
      },
      "execution_count": 7,
      "outputs": []
    },
    {
      "cell_type": "code",
      "source": [
        "df[\"AmountInUSD\"]=df[\"AmountInUSD\"].apply(lambda x: float(str(x).replace(\",\",\"\")))"
      ],
      "metadata": {
        "id": "JRnPlnerGSgA"
      },
      "execution_count": 8,
      "outputs": []
    },
    {
      "cell_type": "code",
      "source": [
        "df[\"AmountInUSD\"]=pd.to_numeric(df[\"AmountInUSD\"])\n",
        "city_amount=df.groupby('CityLocation')['AmountInUSD'].sum().sort_values(ascending=False)[0:10]\n",
        "# print(city_amount)\n",
        "city=city_amount.index\n",
        "amountCity=city_amount.values"
      ],
      "metadata": {
        "id": "Rr10CEDDGV-Z"
      },
      "execution_count": 9,
      "outputs": []
    },
    {
      "cell_type": "code",
      "source": [
        "perAmount=np.true_divide(amountCity, amountCity.sum())*100\n",
        "for i in range(len(city)):\n",
        "    print(city[i],format(perAmount[i],'.2f'))"
      ],
      "metadata": {
        "colab": {
          "base_uri": "https://localhost:8080/"
        },
        "id": "6Wc722ueGbph",
        "outputId": "5786e5fa-561f-443d-a052-a8dbd1386576"
      },
      "execution_count": 10,
      "outputs": [
        {
          "output_type": "stream",
          "name": "stdout",
          "text": [
            "Bangalore 46.33\n",
            "New Delhi 15.50\n",
            "Mumbai 12.95\n",
            "Gurgaon 11.38\n",
            "nan 7.00\n",
            "Chennai 2.26\n",
            "Pune 2.02\n",
            "Hyderabad 1.07\n",
            "Noida 0.94\n",
            "Ahmedabad 0.54\n"
          ]
        }
      ]
    },
    {
      "cell_type": "code",
      "source": [],
      "metadata": {
        "id": "uFmatm2dGe26"
      },
      "execution_count": null,
      "outputs": []
    }
  ]
}