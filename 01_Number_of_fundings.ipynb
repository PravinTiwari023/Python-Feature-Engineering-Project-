{
  "nbformat": 4,
  "nbformat_minor": 0,
  "metadata": {
    "colab": {
      "provenance": [],
      "authorship_tag": "ABX9TyNG95bEgg5B+K/zyaOMFKXh",
      "include_colab_link": true
    },
    "kernelspec": {
      "name": "python3",
      "display_name": "Python 3"
    },
    "language_info": {
      "name": "python"
    }
  },
  "cells": [
    {
      "cell_type": "markdown",
      "metadata": {
        "id": "view-in-github",
        "colab_type": "text"
      },
      "source": [
        "<a href=\"https://colab.research.google.com/github/PravinTiwari023/Python-Feature-Engineering-Project-/blob/main/01_Number_of_fundings.ipynb\" target=\"_parent\"><img src=\"https://colab.research.google.com/assets/colab-badge.svg\" alt=\"Open In Colab\"/></a>"
      ]
    },
    {
      "cell_type": "code",
      "execution_count": 1,
      "metadata": {
        "id": "ykVekRJyAxlG",
        "colab": {
          "base_uri": "https://localhost:8080/"
        },
        "outputId": "be6e7ce1-10b1-4213-c0c1-3795d1b128d2"
      },
      "outputs": [
        {
          "output_type": "stream",
          "name": "stdout",
          "text": [
            "Mounted at /content/drive\n"
          ]
        }
      ],
      "source": [
        "from google.colab import drive\n",
        "drive.mount('/content/drive')"
      ]
    },
    {
      "cell_type": "markdown",
      "source": [
        "Problem Statement :\n",
        "Check the trend of investments over the years. To check the trend, find -\n",
        "Total number of fundings done in each year.\n",
        "Plot a line graph between year and number of fundings. Take year on x-axis and number of fundings on y-axis.\n",
        "Print year-wise total number of fundings also. Print years in ascending order."
      ],
      "metadata": {
        "id": "iDnsucWyBaDN"
      }
    },
    {
      "cell_type": "code",
      "source": [
        "import matplotlib.pyplot as plt\n",
        "import numpy as np\n",
        "import pandas as pd\n",
        "import csv"
      ],
      "metadata": {
        "id": "MfFMB_yvBZja"
      },
      "execution_count": 2,
      "outputs": []
    },
    {
      "cell_type": "code",
      "source": [
        "file_obj=open('/content/drive/MyDrive/Colab/Python EDA Project/startup_funding.csv',encoding='utf-8')\n",
        "data=pd.read_csv(file_obj)"
      ],
      "metadata": {
        "id": "Q40040fIBh1L"
      },
      "execution_count": 3,
      "outputs": []
    },
    {
      "cell_type": "code",
      "source": [
        "data['Date'].replace(\"12/05.2015\",\"12/05/2015\",inplace=True) \n",
        "data['Date'].replace(\"13/04.2015\",\"13/04/2015\",inplace=True) \n",
        "data['Date'].replace(\"15/01.2015\",\"15/01/2015\",inplace=True)\n",
        "data['Date'].replace(\"22/01//2015\",\"22/01/2015\",inplace=True)"
      ],
      "metadata": {
        "id": "QoNWTBvbBtHT"
      },
      "execution_count": 4,
      "outputs": []
    },
    {
      "cell_type": "code",
      "source": [
        "date=data['Date']\n",
        "year=date.str.split('/|-',n=-1,expand=True)[2]\n",
        "\n",
        "freq=year.value_counts(ascending=True)\n",
        "freq.sort_index(inplace=True)\n",
        "x=freq.index\n",
        "y=freq"
      ],
      "metadata": {
        "id": "P8pVN5-EBwzp"
      },
      "execution_count": 6,
      "outputs": []
    },
    {
      "cell_type": "code",
      "source": [
        "plt.plot(x,y)\n",
        "plt.title('Year vs No. of Fundings')\n",
        "plt.xlabel('Year')\n",
        "plt.ylabel('Funding number')\n",
        "plt.show()\n"
      ],
      "metadata": {
        "colab": {
          "base_uri": "https://localhost:8080/",
          "height": 295
        },
        "id": "X-q0vrrHB1As",
        "outputId": "aa28dc28-53bf-42f0-b6d8-da7253b59d3c"
      },
      "execution_count": 7,
      "outputs": [
        {
          "output_type": "display_data",
          "data": {
            "text/plain": [
              "<Figure size 432x288 with 1 Axes>"
            ],
            "image/png": "[encoded data removed]"
          },
          "metadata": {
            "needs_background": "light"
          }
        }
      ]
    },
    {
      "cell_type": "code",
      "source": [
        "for i in range(len(x)):\n",
        "    print(x[i],y[i])"
      ],
      "metadata": {
        "colab": {
          "base_uri": "https://localhost:8080/"
        },
        "id": "q5W_2fPWCDX-",
        "outputId": "6beb99b3-a239-42d5-aed5-55f7b0e66d13"
      },
      "execution_count": 8,
      "outputs": [
        {
          "output_type": "stream",
          "name": "stdout",
          "text": [
            "2015 936\n",
            "2016 993\n",
            "2017 443\n"
          ]
        }
      ]
    },
    {
      "cell_type": "code",
      "source": [],
      "metadata": {
        "id": "O9dz4fM5CGWO"
      },
      "execution_count": null,
      "outputs": []
    }
  ]
}