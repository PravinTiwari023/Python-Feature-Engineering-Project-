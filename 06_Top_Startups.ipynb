{
  "nbformat": 4,
  "nbformat_minor": 0,
  "metadata": {
    "colab": {
      "provenance": [],
      "mount_file_id": "11mZrtSOh_YnVwoWUr3pS2kHiftVSF8H6",
      "authorship_tag": "ABX9TyO2DRdzUICTJFXxk/BulO1r",
      "include_colab_link": true
    },
    "kernelspec": {
      "name": "python3",
      "display_name": "Python 3"
    },
    "language_info": {
      "name": "python"
    }
  },
  "cells": [
    {
      "cell_type": "markdown",
      "metadata": {
        "id": "view-in-github",
        "colab_type": "text"
      },
      "source": [
        "<a href=\"https://colab.research.google.com/github/PravinTiwari023/Python-Feature-Engineering-Project-/blob/main/06_Top_Startups.ipynb\" target=\"_parent\"><img src=\"https://colab.research.google.com/assets/colab-badge.svg\" alt=\"Open In Colab\"/></a>"
      ]
    },
    {
      "cell_type": "markdown",
      "source": [
        "Problem Statement :\n",
        "Find top 5 startups with most amount of total funding.\n",
        "Print the startup name in descending order with respect to amount of funding."
      ],
      "metadata": {
        "id": "ZsydJcVAJEhT"
      }
    },
    {
      "cell_type": "code",
      "execution_count": 1,
      "metadata": {
        "id": "kVXaAYBtI0WL"
      },
      "outputs": [],
      "source": [
        "import numpy as np\n",
        "import pandas as pd\n",
        "import csv"
      ]
    },
    {
      "cell_type": "code",
      "source": [
        "data=pd.read_csv('/content/drive/MyDrive/Colab/Python EDA Project/startup_funding.csv')\n",
        "df=data.copy()\n",
        "df.AmountInUSD.loc[df['AmountInUSD'].isnull()]='0'"
      ],
      "metadata": {
        "colab": {
          "base_uri": "https://localhost:8080/"
        },
        "id": "Dv5-TSDYI1Sl",
        "outputId": "f36da5ef-914e-4d7f-f5c7-62e98afb8b30"
      },
      "execution_count": 2,
      "outputs": [
        {
          "output_type": "stream",
          "name": "stderr",
          "text": [
            "/usr/local/lib/python3.7/dist-packages/pandas/core/indexing.py:1732: SettingWithCopyWarning: \n",
            "A value is trying to be set on a copy of a slice from a DataFrame\n",
            "\n",
            "See the caveats in the documentation: https://pandas.pydata.org/pandas-docs/stable/user_guide/indexing.html#returning-a-view-versus-a-copy\n",
            "  self._setitem_single_block(indexer, value, name)\n"
          ]
        }
      ]
    },
    {
      "cell_type": "code",
      "source": [
        "np_amount=np.array(df.AmountInUSD)\n",
        "np_startup=np.array(df.StartupName)"
      ],
      "metadata": {
        "id": "WnMNjXRIJVsA"
      },
      "execution_count": 3,
      "outputs": []
    },
    {
      "cell_type": "code",
      "source": [
        "for i in range(len(np_amount)):\n",
        "    np_amount[i]=''.join(np_amount[i].split(','))\n",
        "np_amount=np.array(np_amount, dtype='int64')\n",
        "for i in range(len(np_startup)):\n",
        "    if 'Ola' in np_startup[i]:\n",
        "        np_startup[i]='Ola'\n",
        "    if 'Flipkart' in np_startup[i]:\n",
        "        np_startup[i]='Flipkart'\n",
        "    if 'Oyo' in np_startup[i]:\n",
        "        np_startup[i]='Oyo'\n",
        "    if 'Paytm' in np_startup[i]:\n",
        "        np_startup[i]='Paytm'"
      ],
      "metadata": {
        "id": "GOgMYaUIJcSS"
      },
      "execution_count": 4,
      "outputs": []
    },
    {
      "cell_type": "code",
      "source": [
        "dic=dict()\n",
        "for i in range(len(np_amount)):\n",
        "    if np_startup[i] in dic.keys():\n",
        "        dic[np_startup[i]]+=np_amount[i]\n",
        "    else:\n",
        "        dic[np_startup[i]]=np_amount[i]"
      ],
      "metadata": {
        "id": "Bzevj5DeJgu0"
      },
      "execution_count": 5,
      "outputs": []
    },
    {
      "cell_type": "code",
      "source": [
        "xaxis=[]\n",
        "yaxis=[]\n",
        "for i in dic.keys():\n",
        "    xaxis.append(i)\n",
        "    yaxis.append(dic[i])\n",
        "np_xaxis=np.array(xaxis)\n",
        "np_yaxis=np.array(yaxis)"
      ],
      "metadata": {
        "id": "0MqjJm0lJjqF"
      },
      "execution_count": 6,
      "outputs": []
    },
    {
      "cell_type": "code",
      "source": [
        "np_xaxis=np_xaxis[np.argsort(np_yaxis)]\n",
        "np_yaxis=np.sort(np_yaxis)\n",
        "\n",
        "np_xaxis=np_xaxis[len(np_xaxis)-1:len(np_xaxis)-1-5:-1]\n",
        "np_yaxis=np_yaxis[len(np_yaxis)-1:len(np_yaxis)-1-5:-1]"
      ],
      "metadata": {
        "id": "wy-i4eN2JmjI"
      },
      "execution_count": 7,
      "outputs": []
    },
    {
      "cell_type": "code",
      "source": [
        "for i in np_xaxis:\n",
        "    print(i)"
      ],
      "metadata": {
        "colab": {
          "base_uri": "https://localhost:8080/"
        },
        "id": "priIGLIOJp5h",
        "outputId": "3aababfe-0696-4f3b-949e-7b1ff27858ef"
      },
      "execution_count": 8,
      "outputs": [
        {
          "output_type": "stream",
          "name": "stdout",
          "text": [
            "Paytm\n",
            "Flipkart\n",
            "Ola\n",
            "Snapdeal\n",
            "Oyo\n"
          ]
        }
      ]
    },
    {
      "cell_type": "code",
      "source": [],
      "metadata": {
        "id": "huro42JQJsPJ"
      },
      "execution_count": null,
      "outputs": []
    }
  ]
}