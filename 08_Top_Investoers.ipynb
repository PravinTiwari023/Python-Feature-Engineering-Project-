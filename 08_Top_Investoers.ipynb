{
  "nbformat": 4,
  "nbformat_minor": 0,
  "metadata": {
    "colab": {
      "provenance": [],
      "authorship_tag": "ABX9TyOgC6eF6IQ89YbOeYwqblpl",
      "include_colab_link": true
    },
    "kernelspec": {
      "name": "python3",
      "display_name": "Python 3"
    },
    "language_info": {
      "name": "python"
    }
  },
  "cells": [
    {
      "cell_type": "markdown",
      "metadata": {
        "id": "view-in-github",
        "colab_type": "text"
      },
      "source": [
        "<a href=\"https://colab.research.google.com/github/PravinTiwari023/Python-Feature-Engineering-Project-/blob/main/08_Top_Investoers.ipynb\" target=\"_parent\"><img src=\"https://colab.research.google.com/assets/colab-badge.svg\" alt=\"Open In Colab\"/></a>"
      ]
    },
    {
      "cell_type": "code",
      "execution_count": 1,
      "metadata": {
        "colab": {
          "base_uri": "https://localhost:8080/"
        },
        "id": "p-HB21imLD9U",
        "outputId": "8ec72b4f-1cdc-42ec-c346-56faf2d54638"
      },
      "outputs": [
        {
          "output_type": "stream",
          "name": "stdout",
          "text": [
            "Mounted at /content/drive\n"
          ]
        }
      ],
      "source": [
        "from google.colab import drive\n",
        "drive.mount('/content/drive')"
      ]
    },
    {
      "cell_type": "markdown",
      "source": [
        "Problem Statement :\n",
        "Find the Investors who have invested maximum number of times.\n",
        "Print the investor name and number of times invested as integer value."
      ],
      "metadata": {
        "id": "9zkycNMPLZzx"
      }
    },
    {
      "cell_type": "code",
      "source": [
        "import pandas as pd\n",
        "import numpy as np\n",
        "import collections"
      ],
      "metadata": {
        "id": "AkBymkGZLMXr"
      },
      "execution_count": 2,
      "outputs": []
    },
    {
      "cell_type": "code",
      "source": [
        "\n",
        "df = pd.read_csv('/content/drive/MyDrive/Colab/Python EDA Project/startup_funding.csv',encoding = 'utf-8')\n",
        "df.InvestorsName.fillna(\"\",inplace = True)\n",
        "investors = df.InvestorsName"
      ],
      "metadata": {
        "id": "MaNzVYgzLcVw"
      },
      "execution_count": 3,
      "outputs": []
    },
    {
      "cell_type": "code",
      "source": [
        "investors_name = []\n",
        "for i in investors:\n",
        "    if i != \"\":\n",
        "        temp = i.split(\",\")\n",
        "        for j in temp:\n",
        "            investors_name.append(j.strip())"
      ],
      "metadata": {
        "id": "U2NKItnTLlUl"
      },
      "execution_count": 4,
      "outputs": []
    },
    {
      "cell_type": "code",
      "source": [
        "dct = {}\n",
        "for i in investors_name:\n",
        "    dct[i] = dct.get(i,0) + 1\n",
        "for i in dct:\n",
        "    if i == \"Sequoia Capital\":\n",
        "        print(i,dct[i]) "
      ],
      "metadata": {
        "colab": {
          "base_uri": "https://localhost:8080/"
        },
        "id": "A_6bLb5ULy72",
        "outputId": "74801d99-38eb-48be-e8a5-36e5ae4292a2"
      },
      "execution_count": 5,
      "outputs": [
        {
          "output_type": "stream",
          "name": "stdout",
          "text": [
            "Sequoia Capital 64\n"
          ]
        }
      ]
    },
    {
      "cell_type": "code",
      "source": [],
      "metadata": {
        "id": "e1RPpXC1L2XY"
      },
      "execution_count": null,
      "outputs": []
    }
  ]
}