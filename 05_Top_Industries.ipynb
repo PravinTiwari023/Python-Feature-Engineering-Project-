{
  "nbformat": 4,
  "nbformat_minor": 0,
  "metadata": {
    "colab": {
      "provenance": [],
      "authorship_tag": "ABX9TyN2wnZU/oBsyiOvZL6rhjG8",
      "include_colab_link": true
    },
    "kernelspec": {
      "name": "python3",
      "display_name": "Python 3"
    },
    "language_info": {
      "name": "python"
    }
  },
  "cells": [
    {
      "cell_type": "markdown",
      "metadata": {
        "id": "view-in-github",
        "colab_type": "text"
      },
      "source": [
        "<a href=\"https://colab.research.google.com/github/PravinTiwari023/Python-Feature-Engineering-Project-/blob/main/05_Top_Industries.ipynb\" target=\"_parent\"><img src=\"https://colab.research.google.com/assets/colab-badge.svg\" alt=\"Open In Colab\"/></a>"
      ]
    },
    {
      "cell_type": "code",
      "execution_count": 1,
      "metadata": {
        "colab": {
          "base_uri": "https://localhost:8080/"
        },
        "id": "HmrBiCREIABg",
        "outputId": "c0f2b568-ac47-4f98-ab22-c5fba61c6837"
      },
      "outputs": [
        {
          "output_type": "stream",
          "name": "stdout",
          "text": [
            "Mounted at /content/drive\n"
          ]
        }
      ],
      "source": [
        "from google.colab import drive\n",
        "drive.mount('/content/drive')"
      ]
    },
    {
      "cell_type": "markdown",
      "source": [
        "Problem Statement :\n",
        "Which type of companies got more easily funding. To answer this question, find -\n",
        "Top 5 industries and percentage of the total amount funded to that industry. (among top 5 only)\n",
        "Print the industry name and percentage of the amount funded with 2 decimal place after rounding off."
      ],
      "metadata": {
        "id": "erS3rTMKIMGb"
      }
    },
    {
      "cell_type": "code",
      "source": [
        "import pandas as pd \n",
        "import numpy as np "
      ],
      "metadata": {
        "id": "F2gnPi1BIA4m"
      },
      "execution_count": 2,
      "outputs": []
    },
    {
      "cell_type": "code",
      "source": [
        "df_start=pd.read_csv('/content/drive/MyDrive/Colab/Python EDA Project/startup_funding.csv',encoding='utf-8')"
      ],
      "metadata": {
        "id": "ueeUoaQxIPGg"
      },
      "execution_count": 4,
      "outputs": []
    },
    {
      "cell_type": "code",
      "source": [
        "df_start['IndustryVertical'].replace('eCommerce','Ecommerce',inplace=True)\n",
        "df_start['IndustryVertical'].replace('ECommerce','Ecommerce',inplace=True)\n",
        "df_start['IndustryVertical'].replace('ecommerce','Ecommerce',inplace=True)"
      ],
      "metadata": {
        "id": "M4CF3s5pIWY-"
      },
      "execution_count": 5,
      "outputs": []
    },
    {
      "cell_type": "code",
      "source": [
        "df_start[\"AmountInUSD\"] = df_start[\"AmountInUSD\"].apply(lambda x: float(str(x).replace(\",\",\"\"))) \n",
        "df_start[\"AmountInUSD\"] = pd.to_numeric(df_start[\"AmountInUSD\"]) "
      ],
      "metadata": {
        "id": "0o66EcKKIcVD"
      },
      "execution_count": 6,
      "outputs": []
    },
    {
      "cell_type": "code",
      "source": [
        "industry_amount=df_start.groupby('IndustryVertical')['AmountInUSD'].sum().sort_values(ascending=False)[0:5]\n",
        "industry=industry_amount.index \n",
        "amountIndustry=industry_amount.values \n",
        "perIndustry=np.true_divide(amountIndustry, amountIndustry.sum())*100"
      ],
      "metadata": {
        "id": "etIL0bzRIex2"
      },
      "execution_count": 7,
      "outputs": []
    },
    {
      "cell_type": "code",
      "source": [
        "for i in range(len(industry)):\n",
        "    print(industry[i],format(perIndustry[i],'.2f'))"
      ],
      "metadata": {
        "colab": {
          "base_uri": "https://localhost:8080/"
        },
        "id": "v3a4n5ZyIhhC",
        "outputId": "e5fffde4-7eaf-4e73-bb78-37ae4ca809bc"
      },
      "execution_count": 8,
      "outputs": [
        {
          "output_type": "stream",
          "name": "stdout",
          "text": [
            "Ecommerce 40.53\n",
            "Consumer Internet 35.95\n",
            "Technology 10.45\n",
            "Online Marketplace 6.63\n",
            "E-Commerce & M-Commerce platform 6.44\n"
          ]
        }
      ]
    },
    {
      "cell_type": "code",
      "source": [],
      "metadata": {
        "id": "qXWYqV2VIkqT"
      },
      "execution_count": null,
      "outputs": []
    }
  ]
}