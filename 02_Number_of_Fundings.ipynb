{
  "nbformat": 4,
  "nbformat_minor": 0,
  "metadata": {
    "colab": {
      "provenance": [],
      "authorship_tag": "ABX9TyPOffAaKC0ZSnK843edBJns",
      "include_colab_link": true
    },
    "kernelspec": {
      "name": "python3",
      "display_name": "Python 3"
    },
    "language_info": {
      "name": "python"
    }
  },
  "cells": [
    {
      "cell_type": "markdown",
      "metadata": {
        "id": "view-in-github",
        "colab_type": "text"
      },
      "source": [
        "<a href=\"https://colab.research.google.com/github/PravinTiwari023/Python-Feature-Engineering-Project-/blob/main/02_Number_of_Fundings.ipynb\" target=\"_parent\"><img src=\"https://colab.research.google.com/assets/colab-badge.svg\" alt=\"Open In Colab\"/></a>"
      ]
    },
    {
      "cell_type": "code",
      "execution_count": 1,
      "metadata": {
        "colab": {
          "base_uri": "https://localhost:8080/"
        },
        "id": "9sSB71hSD7td",
        "outputId": "fc46cc90-ddbe-42c2-e042-da0524b70aac"
      },
      "outputs": [
        {
          "output_type": "stream",
          "name": "stdout",
          "text": [
            "Mounted at /content/drive\n"
          ]
        }
      ],
      "source": [
        "from google.colab import drive\n",
        "drive.mount('/content/drive')"
      ]
    },
    {
      "cell_type": "markdown",
      "source": [
        "Problem Statement :\n",
        "Check the trend of investments over the years. To check the trend, find -\n",
        "Total number of fundings done in each year.\n",
        "Plot a line graph between year and number of fundings. Take year on x-axis and number of fundings on y-axis.\n",
        "Print year-wise total number of fundings also. Print years in ascending order."
      ],
      "metadata": {
        "id": "4KZidfKmEEbF"
      }
    },
    {
      "cell_type": "code",
      "source": [
        "import pandas as pd\n",
        "import numpy as np"
      ],
      "metadata": {
        "id": "R_UD4_x1ECEj"
      },
      "execution_count": 4,
      "outputs": []
    },
    {
      "cell_type": "code",
      "source": [
        "path = \"/content/drive/MyDrive/Colab/Python EDA Project/startup_funding.csv\"\n",
        "df = pd.read_csv(path,encoding='utf-8')"
      ],
      "metadata": {
        "id": "FuA0Kzy5EMq4"
      },
      "execution_count": 6,
      "outputs": []
    },
    {
      "cell_type": "code",
      "source": [
        "df[\"CityLocation\"].dropna(inplace=True)"
      ],
      "metadata": {
        "id": "AcPSX7IfEO2I"
      },
      "execution_count": 9,
      "outputs": []
    },
    {
      "cell_type": "code",
      "source": [
        "def separateCity(s):\n",
        "    s = str(s)\n",
        "    return s.split(\"/\")[0].strip()\n",
        "df[\"CityLocation\"] = df[\"CityLocation\"].apply(separateCity)"
      ],
      "metadata": {
        "id": "FMFCvJBnFAaL"
      },
      "execution_count": 11,
      "outputs": []
    },
    {
      "cell_type": "code",
      "source": [
        "df[\"CityLocation\"].replace(\"Delhi\", \"New Delhi\", inplace=True)\n",
        "df[\"CityLocation\"].replace(\"bangalore\", \"Bangalore\", inplace=True)"
      ],
      "metadata": {
        "id": "9dPKgiJNEt3b"
      },
      "execution_count": 12,
      "outputs": []
    },
    {
      "cell_type": "code",
      "source": [
        "s=df[\"CityLocation\"].value_counts()[0:10]\n",
        "cities = s.index\n",
        "num_startups = s.values"
      ],
      "metadata": {
        "id": "TEdYEFK_ExT6"
      },
      "execution_count": 13,
      "outputs": []
    },
    {
      "cell_type": "code",
      "source": [
        "for i in range(len(cities)):\n",
        "    print(cities[i], num_startups[i])"
      ],
      "metadata": {
        "colab": {
          "base_uri": "https://localhost:8080/"
        },
        "id": "nJHkQiWpFOXR",
        "outputId": "d50389a9-ed66-4145-f2e5-73c83d037cbc"
      },
      "execution_count": 14,
      "outputs": [
        {
          "output_type": "stream",
          "name": "stdout",
          "text": [
            "Bangalore 635\n",
            "Mumbai 449\n",
            "New Delhi 389\n",
            "Gurgaon 241\n",
            "nan 179\n",
            "Pune 91\n",
            "Noida 79\n",
            "Hyderabad 77\n",
            "Chennai 67\n",
            "Ahmedabad 35\n"
          ]
        }
      ]
    },
    {
      "cell_type": "code",
      "source": [],
      "metadata": {
        "id": "FBIHQWHjFRBw"
      },
      "execution_count": null,
      "outputs": []
    }
  ]
}