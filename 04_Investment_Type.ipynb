{
  "nbformat": 4,
  "nbformat_minor": 0,
  "metadata": {
    "colab": {
      "provenance": [],
      "authorship_tag": "ABX9TyMF0+Fg+hUjdHTfrB//bJ7X",
      "include_colab_link": true
    },
    "kernelspec": {
      "name": "python3",
      "display_name": "Python 3"
    },
    "language_info": {
      "name": "python"
    }
  },
  "cells": [
    {
      "cell_type": "markdown",
      "metadata": {
        "id": "view-in-github",
        "colab_type": "text"
      },
      "source": [
        "<a href=\"https://colab.research.google.com/github/PravinTiwari023/Python-Feature-Engineering-Project-/blob/main/04_Investment_Type.ipynb\" target=\"_parent\"><img src=\"https://colab.research.google.com/assets/colab-badge.svg\" alt=\"Open In Colab\"/></a>"
      ]
    },
    {
      "cell_type": "code",
      "execution_count": 1,
      "metadata": {
        "colab": {
          "base_uri": "https://localhost:8080/"
        },
        "id": "AXSbomQwGoF2",
        "outputId": "dfcf1354-77be-4fde-dc87-7baa444206a9"
      },
      "outputs": [
        {
          "output_type": "stream",
          "name": "stdout",
          "text": [
            "Mounted at /content/drive\n"
          ]
        }
      ],
      "source": [
        "from google.colab import drive\n",
        "drive.mount('/content/drive')"
      ]
    },
    {
      "cell_type": "markdown",
      "source": [
        "Problem Statement :\n",
        "There are 4 different type of investments. Find out percentage of amount funded for each investment type.\n",
        "Plot a pie chart to visualise.\n",
        "Print the investment type and percentage of amount funded with 2 decimal places after rounding off."
      ],
      "metadata": {
        "id": "FFlqr7tCHBMw"
      }
    },
    {
      "cell_type": "code",
      "source": [
        "import matplotlib.pyplot as plt\n",
        "import pandas as pd\n",
        "import numpy as np"
      ],
      "metadata": {
        "id": "J0u0CGX1GpjW"
      },
      "execution_count": 3,
      "outputs": []
    },
    {
      "cell_type": "code",
      "source": [
        "iris = pd.read_csv('/content/drive/MyDrive/Colab/Python EDA Project/startup_funding.csv')\n",
        "df = iris.copy()"
      ],
      "metadata": {
        "id": "t9tzuqQ7G-6C"
      },
      "execution_count": 5,
      "outputs": []
    },
    {
      "cell_type": "code",
      "source": [
        "\n",
        "df['InvestmentType'].replace('Seedfunding', 'Seed Funding',inplace = True)\n",
        "df['InvestmentType'].replace('SeedFunding', 'Seed Funding',inplace = True)\n",
        "df['InvestmentType'].replace('Crowd funding', 'Crowd Funding', inplace = True)\n",
        "df['InvestmentType'].replace('PrivateEquity', 'Private Equity', inplace = True)"
      ],
      "metadata": {
        "id": "kxZBW6BNHcL2"
      },
      "execution_count": 6,
      "outputs": []
    },
    {
      "cell_type": "code",
      "source": [
        "df['AmountInUSD'] = df['AmountInUSD'].apply(lambda x: float(str(x).replace(\",\", \"\")))\n",
        "df['AmountInUSD'] = pd.to_numeric(df['AmountInUSD'])"
      ],
      "metadata": {
        "id": "RyWmtDR1Hc6e"
      },
      "execution_count": 7,
      "outputs": []
    },
    {
      "cell_type": "code",
      "source": [
        "investment_amount  = df.groupby('InvestmentType')['AmountInUSD'].sum().sort_values(ascending = False)\n",
        "investment = investment_amount.index\n",
        "invest_amount = investment_amount.values\n",
        "perInvestment=np.true_divide(invest_amount, invest_amount.sum())*100"
      ],
      "metadata": {
        "id": "vZjt0qnwHrjP"
      },
      "execution_count": 8,
      "outputs": []
    },
    {
      "cell_type": "code",
      "source": [
        "plt.pie(invest_amount,labels = investment,autopct = \"%.2f%%\")\n",
        "plt.show()"
      ],
      "metadata": {
        "colab": {
          "base_uri": "https://localhost:8080/",
          "height": 248
        },
        "id": "aD51AZZPHu94",
        "outputId": "54867f26-ac86-42e4-cbec-91a4e8e12ca4"
      },
      "execution_count": 9,
      "outputs": [
        {
          "output_type": "display_data",
          "data": {
            "text/plain": [
              "<Figure size 432x288 with 1 Axes>"
            ],
            "image/png": "[encoded data removed]"
          },
          "metadata": {}
        }
      ]
    },
    {
      "cell_type": "code",
      "source": [
        "for i in range(len(investment)):\n",
        "    print(investment[i], format(perInvestment[i],'.2f'))"
      ],
      "metadata": {
        "colab": {
          "base_uri": "https://localhost:8080/"
        },
        "id": "NdchtK4BHxVn",
        "outputId": "d12524f8-0565-45ef-ddf6-f0f248fd9c65"
      },
      "execution_count": 10,
      "outputs": [
        {
          "output_type": "stream",
          "name": "stdout",
          "text": [
            "Private Equity 98.15\n",
            "Seed Funding 1.81\n",
            "Debt Funding 0.04\n",
            "Crowd Funding 0.00\n"
          ]
        }
      ]
    },
    {
      "cell_type": "code",
      "source": [],
      "metadata": {
        "id": "Vo1C0jF2H0qB"
      },
      "execution_count": null,
      "outputs": []
    }
  ]
}